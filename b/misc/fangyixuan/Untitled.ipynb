{
 "cells": [
  {
   "cell_type": "code",
   "execution_count": 35,
   "metadata": {},
   "outputs": [
    {
     "name": "stdout",
     "output_type": "stream",
     "text": [
      "[[ 1.  2.  3. 40.  5.]\n",
      " [ 1.  2.  3.  4.  5.]\n",
      " [10. 20. 30. 40. 50.]\n",
      " [10. 20. 30. 40. 50.]]\n"
     ]
    },
    {
     "name": "stderr",
     "output_type": "stream",
     "text": [
      "/home/wb/anaconda3/lib/python3.7/site-packages/sklearn/utils/deprecation.py:66: DeprecationWarning: Class Imputer is deprecated; Imputer was deprecated in version 0.20 and will be removed in 0.22. Import impute.SimpleImputer from sklearn instead.\n",
      "  warnings.warn(msg, category=DeprecationWarning)\n"
     ]
    }
   ],
   "source": [
    "from sklearn.preprocessing import Imputer\n",
    "I = Imputer(strategy='median')\n",
    "\n",
    "data = np.array([[1,2,3,np.nan,5],[1,2,3,4,5],\\\n",
    "                 [10,20,30,40,50],[10,20,30,40,50]])\n",
    "data2 = I.fit_transform(data)\n",
    "print(data2)"
   ]
  },
  {
   "cell_type": "code",
   "execution_count": 14,
   "metadata": {},
   "outputs": [
    {
     "name": "stdout",
     "output_type": "stream",
     "text": [
      "0.4444444444444444\n",
      "0.6666666666666666\n"
     ]
    },
    {
     "data": {
      "text/plain": [
       "array([[2, 0, 0],\n",
       "       [0, 0, 1],\n",
       "       [1, 0, 2]])"
      ]
     },
     "execution_count": 14,
     "metadata": {},
     "output_type": "execute_result"
    }
   ],
   "source": [
    "from sklearn.metrics import confusion_matrix,\\\n",
    " precision_score, recall_score\n",
    "\n",
    "y_true = np.array([2, 0, 2, 2, 0, 1])\n",
    "y_pred = np.array([0, 0, 2, 2, 0, 2])\n",
    "\n",
    "p = precision_score(y_true,y_pred,average='macro')\n",
    "print(p)\n",
    "score = sum(y_true == y_pred)/len(y_true)\n",
    "print(score)\n",
    "\n",
    "confusion_matrix(y_true, y_pred)\n",
    "    "
   ]
  },
  {
   "cell_type": "code",
   "execution_count": 4,
   "metadata": {},
   "outputs": [],
   "source": [
    "def func():\n",
    "    print('adfdfdf d df df sadf sdf sdf sdf sadf\\\n",
    "    dfsdfsd sdf sdf sdf sd\\\n",
    "    dfdfsdfsdfsd')"
   ]
  },
  {
   "cell_type": "code",
   "execution_count": 5,
   "metadata": {},
   "outputs": [
    {
     "name": "stdout",
     "output_type": "stream",
     "text": [
      "adfdfdf d df df sadf sdf sdf sdf sadf    dfsdfsd sdf sdf sdf sd    dfdfsdfsdfsd\n"
     ]
    }
   ],
   "source": []
  },
  {
   "cell_type": "code",
   "execution_count": null,
   "metadata": {},
   "outputs": [],
   "source": []
  }
 ],
 "metadata": {
  "kernelspec": {
   "display_name": "Python 3",
   "language": "python",
   "name": "python3"
  },
  "language_info": {
   "codemirror_mode": {
    "name": "ipython",
    "version": 3
   },
   "file_extension": ".py",
   "mimetype": "text/x-python",
   "name": "python",
   "nbconvert_exporter": "python",
   "pygments_lexer": "ipython3",
   "version": "3.7.3"
  }
 },
 "nbformat": 4,
 "nbformat_minor": 2
}
