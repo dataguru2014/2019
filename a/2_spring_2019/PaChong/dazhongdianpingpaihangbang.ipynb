{
 "cells": [
  {
   "cell_type": "code",
   "execution_count": 20,
   "metadata": {},
   "outputs": [
    {
     "name": "stdout",
     "output_type": "stream",
     "text": [
      "<class 'str'>\n"
     ]
    }
   ],
   "source": [
    "import requests\n",
    "import time\n",
    "import json\n",
    "from bs4 import BeautifulSoup\n",
    "url='http://www.dianping.com/mylist/ajax/shoprank?rankId=9342352ff0d3807a775a93b688e382b6'\n",
    "head={'Accept':'*/*',\n",
    "      'Accept-Encoding': 'gzip, deflate',\n",
    "      'Accept-Language': 'zh-CN,zh;q=0.9',\n",
    "      'Connection': 'keep-alive',\n",
    "      'Cookie': 'UM_distinctid=16787662ab1277-0f6db90f9a2a34-b78173e-144000-16787662ab229c; _lxsdk_cuid=16787662d14c8-008dd4e4a8c0ca-b78173e-144000-16787662d149a; _lxsdk=16787662d14c8-008dd4e4a8c0ca-b78173e-144000-16787662d149a; _hc.v=a005914f-caee-8b03-362b-7723b966cd73.1544164880; s_ViewType=10; cy=15; cye=xiamen; Hm_lvt_f5df380d5163c1cc4823c8d33ec5fa49=1544267312,1544267532,1544267584,1544269361; Hm_lpvt_f5df380d5163c1cc4823c8d33ec5fa49=1544408132; CNZZDATA1271442956=315510241-1544161777-https%253A%252F%252Fwww.baidu.com%252F%7C1544404066; _lx_utm=utm_source%3DBaidu%26utm_medium%3Dorganic; _lxsdk_s=16795e5c926-ceb-371-356%7C%7C22',\n",
    "      'Host':'www.dianping.com',\n",
    "      'Referer': 'http://www.dianping.com/shoplist/shopRank/pcChannelRankingV2?rankId=9342352ff0d3807a775a93b688e382b6',\n",
    "      'User-Agent':'Mozilla/5.0 (Windows NT 10.0; Win64; x64) AppleWebKit/537.36 (KHTML, like Gecko) Chrome/71.0.3578.80 Safari/537.36',\n",
    "      'X-Requested-With': 'XMLHttpRequest'\n",
    "     }\n",
    "html=requests.get(url,headers=head)\n",
    "# html.encoding='gbk'\n",
    "tar=json.loads(html.text)\n",
    "print(type(html.text))"
   ]
  },
  {
   "cell_type": "code",
   "execution_count": 21,
   "metadata": {},
   "outputs": [],
   "source": [
    "import pandas\n",
    "from pandas import DataFrame\n",
    "Flist=[]\n",
    "for i in tar['shopBeans']:\n",
    "    flist=[]\n",
    "    add=i['address']\n",
    "    avgPrice=i['avgPrice']\n",
    "    branchName=i['branchName']\n",
    "    types=i['mainCategoryName']\n",
    "    region=i['mainRegionName']\n",
    "    tasteScore=i['refinedScore1']\n",
    "    envScore=i['refinedScore2']\n",
    "    servScore=i['refinedScore3']\n",
    "    shopId=i['shopId']\n",
    "    shopName=i['shopName']\n",
    "    flist=[shopId,shopName,region,add,branchName,avgPrice,types,tasteScore,envScore,servScore]\n",
    "    Flist.append(flist)\n",
    "Flist=DataFrame(Flist,columns=['shopId','shopName','region','add','branchName','avgPrice','types','tasteScore','envScore','servScore'])\n",
    "Flist.to_excel(r'D:\\python操作文件\\大众点评\\大众点评火锅排行榜.xlsx')    #使用此方法,无需对页面进行encoding\n",
    "# Flist.to_csv(r'D:\\python操作文件\\大众点评\\大众点评火锅排行榜.csv')   #乱码"
   ]
  },
  {
   "cell_type": "code",
   "execution_count": null,
   "metadata": {},
   "outputs": [],
   "source": []
  }
 ],
 "metadata": {
  "kernelspec": {
   "display_name": "Python 3",
   "language": "python",
   "name": "python3"
  },
  "language_info": {
   "codemirror_mode": {
    "name": "ipython",
    "version": 3
   },
   "file_extension": ".py",
   "mimetype": "text/x-python",
   "name": "python",
   "nbconvert_exporter": "python",
   "pygments_lexer": "ipython3",
   "version": "3.6.5"
  }
 },
 "nbformat": 4,
 "nbformat_minor": 2
}
