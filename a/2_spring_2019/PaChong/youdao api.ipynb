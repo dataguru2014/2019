{
 "cells": [
  {
   "cell_type": "code",
   "execution_count": 2,
   "metadata": {},
   "outputs": [
    {
     "name": "stdout",
     "output_type": "stream",
     "text": [
      "请输入要翻译的内容:什么\n",
      "{\"translateResult\":[[{\"tgt\":\"what\",\"src\":\"什么\"}]],\"errorCode\":0,\"type\":\"zh-CHS2en\",\"smartResult\":{\"entries\":[\"\",\"what\\r\\n\",\"any\\r\\n\",\"anything\\r\\n\"],\"type\":1}}\n",
      "{'translateResult': [[{'tgt': 'what', 'src': '什么'}]], 'errorCode': 0, 'type': 'zh-CHS2en', 'smartResult': {'entries': ['', 'what\\r\\n', 'any\\r\\n', 'anything\\r\\n'], 'type': 1}}\n",
      "翻译结果为:what\n"
     ]
    }
   ],
   "source": [
    "import requests\n",
    "import json\n",
    "import time\n",
    "import random\n",
    "import hashlib\n",
    "url='http://fanyi.youdao.com/translate_o?smartresult=dict&smartresult=rule'\n",
    "content=input('请输入要翻译的内容:')\n",
    "\n",
    "S = \"fanyideskweb\"\n",
    "n = content\n",
    "r =str(int(time.time() * 1000) + random.randint(0, 10))\n",
    "D = \"ebSeFb%=XZ%T[KZ)c(sy!\"\n",
    "sign = hashlib.md5((S + n + r + D).encode('utf-8')).hexdigest()\n",
    "\n",
    "\n",
    "data={'action':'FY_BY_REALTIME',\n",
    "      'bv':'e2a78ed30c66e16a857c5b6486a1d326',\n",
    "      'client':'fanyideskweb',\n",
    "      'doctype':'json',\n",
    "      'from':'AUTO',\n",
    "      'i':n,\n",
    "      'keyfrom':'fanyi.web',\n",
    "      'salt':r,\n",
    "      'sign':sign,\n",
    "      'smartresult':'dict',\n",
    "      'to':'AUTO',\n",
    "#       'ts':'1544009129987',\n",
    "      'typoResult':'false',\n",
    "      'version':'2.1'}\n",
    "headers = {\n",
    "           'Cookie': 'OUTFOX_SEARCH_USER_ID=782075878@10.169.0.84',\n",
    "           'Referer': 'http://fanyi.youdao.com/',\n",
    "           'User-Agent': 'Mozilla/5.0 (Windows NT 10.0; Win64; x64; rv:63.0) Gecko/20100101 Firefox/63.0',\n",
    "           }\n",
    "html=requests.post(url,data=data,headers=headers).text\n",
    "print(html)\n",
    "text=json.loads(html)\n",
    "print(text)\n",
    "if 'translateResult' in text:\n",
    "    try:\n",
    "        result=text['translateResult'][0][0]['tgt']\n",
    "    except:\n",
    "        result='失败'\n",
    "print('翻译结果为:%s'%result)"
   ]
  },
  {
   "cell_type": "code",
   "execution_count": null,
   "metadata": {},
   "outputs": [],
   "source": []
  }
 ],
 "metadata": {
  "kernelspec": {
   "display_name": "Python 3",
   "language": "python",
   "name": "python3"
  },
  "language_info": {
   "codemirror_mode": {
    "name": "ipython",
    "version": 3
   },
   "file_extension": ".py",
   "mimetype": "text/x-python",
   "name": "python",
   "nbconvert_exporter": "python",
   "pygments_lexer": "ipython3",
   "version": "3.6.5"
  }
 },
 "nbformat": 4,
 "nbformat_minor": 2
}
