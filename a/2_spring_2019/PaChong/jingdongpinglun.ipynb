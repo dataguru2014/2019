{
 "cells": [
  {
   "cell_type": "code",
   "execution_count": 28,
   "metadata": {},
   "outputs": [],
   "source": [
    "import requests \n",
    "import json\n",
    "import csv\n",
    "url='https://sclub.jd.com/comment/productPageComments.action?callback=fetchJSON_comment98vv2124&productId=3311073&score=0&sortType=5&page=0&pageSize=10&isShadowSku=0&fold=1'\n",
    "head={\n",
    "    'Accept':'*/*',\n",
    "    'Accept-Ecoding':'gzip, deflate, br',\n",
    "    'Accept-Language':'zh-CN,zh;q=0.8,zh-TW;q=0.7,zh-HK;q=0.5,en-US;q=0.3,en;q=0.2',\n",
    "    'Connection':'keep-alive',\n",
    "    'Cookie':'__jda=122270672.222191952.1544061528.1544061528.1544061530.1; unpl=V2_ZzNtbUVVQxZ2AEVUfhsMAWJTE1tKUUsQfV1FVX4dWwFmUEYIclRCFXwURldnGFsUZgsZWUtcRhJFCEdkexhdBGYKGlRKVXMVcQ8oVRUZWw1hbSJtQVdzHUULRVd7EVwNYwAibUVnc8LcppDY3c3lr7CxkG1GUUATcQlHVXgpXTVmM1kzQxpAFnYITlRzHV81ZjMR; __jdb=122270672.5.222191952|1.1544061530; __jdc=122270672; __jdv=122270672|www.linkstars.com|t_1000089893_156_0_1697_|tuiguang|6312292143a54a0797949d2045650bed|1544061529627; __jdu=222191952; PCSYCityID=1315; shshshfp=508049d49e4f40bc61d1b98b08b17b4f; shshshfpa=3adaf07a-d523-290e-99aa-e7703cb8697e-1544061530; shshshsID=38676382b13d1bc259783ca70fadbd88_4_1544063289588; shshshfpb=1297677104d9d46f4a61023673eb8e766d56a84ca5556a6b55c088258c; 3AB9D23F7A4B3C9B=TTZSKXQMQZ67CXIMLCVGTA6IJ3ZV3NZIOY2ZFYCJLXSRNHQH2NLNWDAOLCNC7HWVGGI5JR7XDL3SVLFXXAKOVNAB6Y; _gcl_au=1.1.533661972.1544061572; JSESSIONID=5E8846A54C6AFB0734EDFBC654B05BB3.s1',\n",
    "    'Host':'sclub.jd.com',\n",
    "    'Referer':'https://item.jd.com/3311073.html',\n",
    "    'TE':'Trailers',\n",
    "    'User-Agent':'Mozilla/5.0 (Windows NT 10.0; Win64; x64; rv:63.0) Gecko/20100101 Firefox/63.0',\n",
    "     }\n",
    "html=requests.get(url,headers=head)\n",
    "html.encoding='gbk'\n",
    "\n",
    "file=html.text.replace('fetchJSON_comment98vv2124(','').replace(');','')\n",
    "soup=json.loads(file)\n",
    "\n",
    "label=[]\n",
    "com=[]\n",
    "for i in soup['hotCommentTagStatistics']:\n",
    "    label.append(i['name'])\n",
    "for j in soup['comments']:\n",
    "    c=[j['content'],j['creationTime'],j['score'],j['userLevelName'],j['userClientShow']]\n",
    "    com.append(c)\n",
    "# print(label)\n",
    "# print(com)\n",
    "with open(r'D:\\python操作文件\\京东评论\\评论数据.csv','w',newline='',encoding='gbk') as f:\n",
    "    csv.writer(f).writerow(label)\n",
    "    csv.writer(f).writerow(['content','creationtime','score','userlevelname','userclientshow'])\n",
    "    csv.writer(f).writerows(com)"
   ]
  },
  {
   "cell_type": "code",
   "execution_count": 2,
   "metadata": {},
   "outputs": [
    {
     "name": "stdout",
     "output_type": "stream",
     "text": [
      "None\n"
     ]
    }
   ],
   "source": [
    "import requests\n",
    "from bs4 import BeautifulSoup\n",
    "url='https://item.jd.com/3311073.html'\n",
    "html=requests.get(url)\n",
    "html.encoding='gbk'\n",
    "soup=BeautifulSoup(html.text,'lxml').find('div', class_=\"p-parameter\")\n",
    "print(soup)\n"
   ]
  }
 ],
 "metadata": {
  "kernelspec": {
   "display_name": "Python 3",
   "language": "python",
   "name": "python3"
  },
  "language_info": {
   "codemirror_mode": {
    "name": "ipython",
    "version": 3
   },
   "file_extension": ".py",
   "mimetype": "text/x-python",
   "name": "python",
   "nbconvert_exporter": "python",
   "pygments_lexer": "ipython3",
   "version": "3.6.5"
  }
 },
 "nbformat": 4,
 "nbformat_minor": 2
}
