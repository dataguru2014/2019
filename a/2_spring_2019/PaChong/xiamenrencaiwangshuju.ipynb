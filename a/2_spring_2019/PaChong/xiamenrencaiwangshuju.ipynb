{
 "cells": [
  {
   "cell_type": "code",
   "execution_count": 11,
   "metadata": {},
   "outputs": [
    {
     "name": "stderr",
     "output_type": "stream",
     "text": [
      "D:\\anaconda\\lib\\site-packages\\bs4\\__init__.py:181: UserWarning: No parser was explicitly specified, so I'm using the best available HTML parser for this system (\"lxml\"). This usually isn't a problem, but if you run this code on another system, or in a different virtual environment, it may use a different parser and behave differently.\n",
      "\n",
      "The code that caused this warning is on line 193 of the file D:\\anaconda\\lib\\runpy.py. To get rid of this warning, change code that looks like this:\n",
      "\n",
      " BeautifulSoup(YOUR_MARKUP})\n",
      "\n",
      "to this:\n",
      "\n",
      " BeautifulSoup(YOUR_MARKUP, \"lxml\")\n",
      "\n",
      "  markup_type=markup_type))\n"
     ]
    }
   ],
   "source": [
    "from bs4 import BeautifulSoup           #保存路径\\获取数据封装\n",
    "import pandas as pd\n",
    "from pandas import DataFrame\n",
    "import requests\n",
    "\n",
    "def get_data(text):\n",
    "    scode=BeautifulSoup(text).body.find('table', class_=\"text-center queryRecruitTable\", width=\"778\").findAll('tr')\n",
    "    M=[]\n",
    "    for i in scode[1:]:\n",
    "        m=[j.a.text for j in i.findAll('td')[1:8]]\n",
    "        M.append(m)\n",
    "    return M\n",
    "def save_data(data,path):\n",
    "    for c in data.columns:\n",
    "        data[c]=data[c].str.replace(' ','').str.strip()\n",
    "    data.to_csv(path,encoding='gbk')\n",
    "    \n",
    "A=[]\n",
    "for i in range(1,5):\n",
    "    url='https://www.xmrc.com.cn/net/info/Resultg.aspx?a=a&g=g&recordtype=1&searchtype=3&keyword=%E5%A4%A7%E6%95%B0%E6%8D%AE&releasetime=365&worklengthflag=0&sortby=updatetime&ascdesc=Desc&PageIndex={0}'.format(str(i))\n",
    "    head={'User-Agent':'Mozilla/5.0 (Windows NT 10.0; Win64; x64; rv:63.0) Gecko/20100101 Firefox/63.0'}\n",
    "    html=requests.Session().get(url,headers=head)\n",
    "    html.encoding='utf-8'\n",
    "    A.extend(get_data(html.text))\n",
    "\n",
    "data=DataFrame(A,columns=['职位名称','公司名称','工作地点','参考月薪','学历要求','性别要求','发布时间'])\n",
    "path=r'D:\\python操作文件\\人才网爬取的数据3.csv'\n",
    "save_data(data,path)\n",
    "\n",
    "\n",
    "    "
   ]
  },
  {
   "cell_type": "code",
   "execution_count": 4,
   "metadata": {
    "scrolled": true
   },
   "outputs": [
    {
     "name": "stderr",
     "output_type": "stream",
     "text": [
      "D:\\anaconda\\lib\\site-packages\\bs4\\__init__.py:181: UserWarning: No parser was explicitly specified, so I'm using the best available HTML parser for this system (\"lxml\"). This usually isn't a problem, but if you run this code on another system, or in a different virtual environment, it may use a different parser and behave differently.\n",
      "\n",
      "The code that caused this warning is on line 193 of the file D:\\anaconda\\lib\\runpy.py. To get rid of this warning, change code that looks like this:\n",
      "\n",
      " BeautifulSoup(YOUR_MARKUP})\n",
      "\n",
      "to this:\n",
      "\n",
      " BeautifulSoup(YOUR_MARKUP, \"lxml\")\n",
      "\n",
      "  markup_type=markup_type))\n"
     ]
    }
   ],
   "source": [
    "from bs4 import BeautifulSoup\n",
    "import pandas as pd\n",
    "from pandas import DataFrame\n",
    "import requests\n",
    "A=[]\n",
    "for i in range(1,5):\n",
    "    url='https://www.xmrc.com.cn/net/info/Resultg.aspx?a=a&g=g&recordtype=1&searchtype=3&keyword=%E5%A4%A7%E6%95%B0%E6%8D%AE&releasetime=365&worklengthflag=0&sortby=updatetime&ascdesc=Desc&PageIndex={0}'.format(str(i))\n",
    "    head={'User-Agent':'Mozilla/5.0 (Windows NT 10.0; Win64; x64; rv:63.0) Gecko/20100101 Firefox/63.0'}\n",
    "    html=requests.Session().get(url,headers=head)\n",
    "    html.encoding='utf-8'\n",
    "    scode=BeautifulSoup(html.text).body.find('table', class_=\"text-center queryRecruitTable\", width=\"778\").findAll('tr')\n",
    "    for i in scode[1:]:\n",
    "        m=[j.a.text for j in i.findAll('td')[1:8]]\n",
    "        A.append(m)\n",
    "\n",
    "def save_data(data,path):\n",
    "    for c in data.columns:\n",
    "        data[c]=data[c].str.replace(' ','').str.strip()\n",
    "    data.to_csv(path,encoding='gbk')\n",
    "    \n",
    "data=DataFrame(A,columns=['职位名称','公司名称','工作地点','参考月薪','学历要求','性别要求','发布时间'])\n",
    "# for c in data.columns:\n",
    "#     data[c]=data[c].str.replace(' ','').str.strip()\n",
    "# data.to_csv(r'D:\\python操作文件\\人才网爬取的数据3.csv',encoding='gbk')\n",
    "\n",
    "path=r'D:\\python操作文件\\人才网爬取的数据3.csv'\n",
    "save_data(data,path)\n",
    "\n"
   ]
  },
  {
   "cell_type": "code",
   "execution_count": 13,
   "metadata": {},
   "outputs": [
    {
     "name": "stdout",
     "output_type": "stream",
     "text": [
      "[['\\n大数据开发工程师\\n                            ', '\\n                            厦门用友烟草软件有限责任公司', '\\n                            厦门市思明区', '\\n', '\\n                            本科', '\\n', '\\n                            2018-11-13 17:13'], ['\\n                            高级大数据工程师\\n                            ', '\\n                            厦门美域高人力资源服务有限公司', '\\n                            厦门市思明区', '\\n                            20000-35000', '\\n                            本科', '\\n', '\\n                            2018-11-13 14:42'], ['\\n大数据开发工程师\\n                            ', '\\n                            厦门简帛信息科技有限公司', '\\n                            厦门市', '\\n', '\\n                            本科', '\\n', '\\n                            2018-11-13 14:41'], ['\\n大数据开发工程师\\n                            ', '\\n                            厦门寻英企业管理咨询有限公司', '\\n                            厦门市', '\\n                            10000-20000', '\\n                            本科', '\\n', '\\n                            2018-11-13 14:04'], ['\\n大数据架构师\\n                            ', '\\n                            厦门寻英企业管理咨询有限公司', '\\n                            厦门市', '\\n                            15000-30000', '\\n                            本科', '\\n', '\\n                            2018-11-13 14:01'], ['\\n大数据分析师\\n                            ', '\\n                            厦门锐思特软件科技有限公司', '\\n                            厦门市海沧区', '\\n                            12000-12000', '\\n                            本科', '\\n', '\\n                            2018-11-13 13:43'], ['\\n大数据工程师（爬虫）\\n                            ', '\\n                            厦门海西医药交易中心有限公司', '\\n                            厦门市海沧区', '\\n', '\\n                            大专', '\\n', '\\n                            2018-11-13 11:10'], ['\\n大数据架构师\\n                            ', '\\n                            厦门海西医药交易中心有限公司', '\\n                            厦门市海沧区', '\\n', '\\n                            本科', '\\n', '\\n                            2018-11-13 11:10'], ['\\n                            Python大数据工程师\\n                            ', '\\n                            厦门依实信息科技有限公司', '\\n                            厦门市', '\\n                            10000-12000', '\\n                            本科', '\\n', '\\n                            2018-11-13 08:47'], ['\\n大数据架构师\\n                            ', '\\n                            泉州市中航信息科技有限公司', '\\n                            福州市、泉州市', '\\n                            20000-30000', '\\n                            本科', '\\n', '\\n                            2018-11-12 14:04'], ['\\n大数据架构师\\n                            ', '\\n                            厦门市美亚柏科信息股份有限公司', '\\n                            厦门市', '\\n', '\\n                            硕士研究生', '\\n', '\\n                            2018-11-12 14:02'], ['\\n大数据开发工程师\\n                            ', '\\n                            厦门市美亚柏科信息股份有限公司', '\\n                            厦门市', '\\n', '\\n', '\\n', '\\n                            2018-11-12 14:02'], ['\\n                            安全大数据分析专员\\n                            ', '\\n                            厦门市美亚柏科信息股份有限公司', '\\n                            厦门市思明区', '\\n', '\\n                            本科', '\\n', '\\n                            2018-11-12 14:02'], ['\\n                            预研工程师（人工智能/大数据方向）\\n                            ', '\\n                            厦门市美亚柏科信息股份有限公司', '\\n                            厦门市思明区、厦门市', '\\n', '\\n                            本科', '\\n', '\\n                            2018-11-12 14:02'], ['\\n                            高级JAVA开发工程师（大数据开发方向）\\n                            ', '\\n                            厦门市美亚柏科信息股份有限公司', '\\n                            厦门市思明区', '\\n', '\\n                            本科', '\\n', '\\n                            2018-11-12 14:02'], ['\\n                            美团点评—大数据技术架构师（专家工程师）（厦门）\\n                            ', '\\n                            北京三快在线科技有限公司', '\\n                            厦门市、厦门市思明区', '\\n                            15000-30000', '\\n                            大专', '\\n', '\\n                            2018-11-12 09:31'], ['\\n大数据系统分析师\\n                            ', '\\n                            厦门渊亭信息科技有限公司', '\\n                            厦门市思明区', '\\n                            8000-16000', '\\n', '\\n', '\\n                            2018-11-12 09:16'], ['\\n大数据开发实施工程师\\n                            ', '\\n                            厦门渊亭信息科技有限公司', '\\n                            厦门市思明区', '\\n                            8000-15000', '\\n', '\\n', '\\n                            2018-11-12 09:16'], ['\\n                            售前工程师（大数据方向）\\n                            ', '\\n                            厦门渊亭信息科技有限公司', '\\n                            厦门市', '\\n', '\\n                            本科', '\\n', '\\n                            2018-11-12 09:16'], ['\\n大数据项目经理\\n                            ', '\\n                            厦门渊亭信息科技有限公司', '\\n                            厦门市', '\\n                            8000-16000', '\\n', '\\n', '\\n                            2018-11-12 09:16'], ['\\n大数据架构师\\n                            ', '\\n                            厦门渊亭信息科技有限公司', '\\n                            厦门市', '\\n', '\\n                            本科', '\\n', '\\n                            2018-11-12 09:16'], ['\\n大数据工程师\\n                            ', '\\n                            厦门渊亭信息科技有限公司', '\\n                            厦门市', '\\n', '\\n', '\\n', '\\n                            2018-11-12 09:16'], ['\\n大数据支持岗\\n                            ', '\\n                            中国太平洋财产保险股份有限公司厦门分公司', '\\n                            厦门市思明区', '\\n                            5000-8500', '\\n                            本科', '\\n', '\\n                            2018-11-12 09:10'], ['\\n大数据Java研发工程师\\n                            ', '\\n                            厦门益管通管理咨询有限公司', '\\n                            厦门市湖里区', '\\n                            10000-15000', '\\n                            本科', '\\n', '\\n                            2018-11-09 17:19'], ['\\n                            高级大数据工程师\\n                            ', '\\n                            天阳宏业科技股份有限公司厦门分公司', '\\n                            厦门市', '\\n', '\\n', '\\n', '\\n                            2018-11-09 09:37'], ['\\n大数据平台资深架构师\\n                            ', '\\n                            网宿科技股份有限公司厦门分公司', '\\n                            厦门市思明区', '\\n', '\\n                            本科', '\\n', '\\n                            2018-11-09 09:05'], ['\\n                            JAVA软件开发工程师（大数据）\\n                            ', '\\n                            网宿科技股份有限公司厦门分公司', '\\n                            厦门市', '\\n', '\\n                            本科', '\\n', '\\n                            2018-11-09 09:05'], ['\\n大数据开发工程师\\n                            ', '\\n                            网宿科技股份有限公司厦门分公司', '\\n                            厦门市思明区', '\\n', '\\n                            本科', '\\n', '\\n                            2018-11-09 09:05'], ['\\n大数据工程师\\n                            ', '\\n                            上海诺祺科技有限公司', '\\n                            厦门市思明区', '\\n                            4000-8000', '\\n                            大专', '\\n', '\\n                            2018-11-08 18:01'], ['\\n                            高级大数据工程师\\n                            ', '\\n                            上海诺祺科技有限公司', '\\n                            厦门市思明区', '\\n                            5000-10000', '\\n                            大专', '\\n', '\\n                            2018-11-08 18:01']]\n"
     ]
    },
    {
     "name": "stderr",
     "output_type": "stream",
     "text": [
      "D:\\anaconda\\lib\\site-packages\\bs4\\__init__.py:181: UserWarning: No parser was explicitly specified, so I'm using the best available HTML parser for this system (\"lxml\"). This usually isn't a problem, but if you run this code on another system, or in a different virtual environment, it may use a different parser and behave differently.\n",
      "\n",
      "The code that caused this warning is on line 193 of the file D:\\anaconda\\lib\\runpy.py. To get rid of this warning, change code that looks like this:\n",
      "\n",
      " BeautifulSoup(YOUR_MARKUP})\n",
      "\n",
      "to this:\n",
      "\n",
      " BeautifulSoup(YOUR_MARKUP, \"lxml\")\n",
      "\n",
      "  markup_type=markup_type))\n"
     ]
    }
   ],
   "source": [
    "import pandas \n",
    "from pandas import DataFrame\n",
    "from bs4 import BeautifulSoup\n",
    "with open(r'D:\\python操作文件\\厦门人才网大数据源码.txt','r',encoding='gbk') as file:\n",
    "    f=file.read()\n",
    "    A=[]\n",
    "    soup=BeautifulSoup(f).body.find('table', class_=\"text-center queryRecruitTable\", width=\"778\")\n",
    "#     for i in soup.find('tr').findAll('th')[1:-1]:\n",
    "#         b.append(i.string)                  #爬出来的列索引存在太多符号,所以采用以下columns方法\n",
    "    m=soup.findAll('tr', class_=\"bg\")\n",
    "    for j in m:\n",
    "        c=[]\n",
    "        for h in j.findAll('td')[1:-1]:\n",
    "            c.append(h.a.text)             #直接用h.text可以索引出时间栏的隐藏文本\n",
    "        A.append(c)\n",
    "#     print(A)\n",
    "df=DataFrame(A,columns=['职位名称','公司名称','工作地点','参考月薪','学历要求','性别要求','发布时间'])\n",
    "for i in df.columns:\n",
    "#     if i=='发布时间':\n",
    "#         df[i]=df[i].str.replace(' ','').str.replace(r'\\n','').str.strip()    #如果发布时间一栏用text爬出数据,会爬出很多文本\n",
    "#     else:                                                                    #此代码专门清洗'发布时间'这列数据\n",
    "    df[i]=df[i].str.replace(' ','').str.strip().str.strip(r'\\n')\n",
    "df.to_csv(r'D:\\python操作文件\\人才网爬取的数据2.csv',encoding='gbk')\n"
   ]
  }
 ],
 "metadata": {
  "kernelspec": {
   "display_name": "Python 3",
   "language": "python",
   "name": "python3"
  },
  "language_info": {
   "codemirror_mode": {
    "name": "ipython",
    "version": 3
   },
   "file_extension": ".py",
   "mimetype": "text/x-python",
   "name": "python",
   "nbconvert_exporter": "python",
   "pygments_lexer": "ipython3",
   "version": "3.6.5"
  }
 },
 "nbformat": 4,
 "nbformat_minor": 2
}
